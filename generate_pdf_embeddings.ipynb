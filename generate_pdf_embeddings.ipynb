{
  "nbformat": 4,
  "nbformat_minor": 0,
  "metadata": {
    "colab": {
      "provenance": [],
      "mount_file_id": "1sARdElC4rfCchXeds2leqmTpV4f6JrZO",
      "authorship_tag": "ABX9TyNWRoxZ97G3Wl/nD8GGSsC7",
      "include_colab_link": true
    },
    "kernelspec": {
      "name": "python3",
      "display_name": "Python 3"
    },
    "language_info": {
      "name": "python"
    }
  },
  "cells": [
    {
      "cell_type": "markdown",
      "metadata": {
        "id": "view-in-github",
        "colab_type": "text"
      },
      "source": [
        "<a href=\"https://colab.research.google.com/github/rawlingsnsame/langchain/blob/main/generate_pdf_embeddings.ipynb\" target=\"_parent\"><img src=\"https://colab.research.google.com/assets/colab-badge.svg\" alt=\"Open In Colab\"/></a>"
      ]
    },
    {
      "cell_type": "code",
      "source": [
        "!pip install langchain pinecone langchain-openai pypdf langchain_pinecone -q"
      ],
      "metadata": {
        "id": "GCCADcid1gA1"
      },
      "execution_count": null,
      "outputs": []
    },
    {
      "cell_type": "code",
      "source": [
        "!pip install langchain_community -q"
      ],
      "metadata": {
        "id": "7hVJUFur2TZb"
      },
      "execution_count": null,
      "outputs": []
    },
    {
      "cell_type": "code",
      "source": [
        "!pip install \"unstructured[pdf]\""
      ],
      "metadata": {
        "id": "7rl_VubCRQev"
      },
      "execution_count": null,
      "outputs": []
    },
    {
      "cell_type": "code",
      "source": [
        "!apt-get install poppler-utils -q # Install the poppler library containing pdfinfo utility"
      ],
      "metadata": {
        "id": "ULQR5MK1T7Sn"
      },
      "execution_count": null,
      "outputs": []
    },
    {
      "cell_type": "code",
      "execution_count": null,
      "metadata": {
        "id": "pO_X4kb0xtmX"
      },
      "outputs": [],
      "source": [
        "import os\n",
        "import glob\n",
        "import pinecone\n",
        "from pypdf import PdfReader\n",
        "from langchain_community.document_loaders import DirectoryLoader\n",
        "from langchain_pinecone import Pinecone\n",
        "from langchain.text_splitter import CharacterTextSplitter\n",
        "from langchain_pinecone import PineconeVectorStore\n",
        "from langchain_openai import OpenAIEmbeddings\n",
        "from langchain_community.document_loaders import DirectoryLoader\n",
        "from langchain_text_splitters import RecursiveCharacterTextSplitter\n",
        "from langchain.docstore.document import Document"
      ]
    },
    {
      "cell_type": "code",
      "source": [
        "from google.colab import userdata\n",
        "os.environ[\"OPENAI_API_KEY\"] = userdata.get(\"OPENAI_API_KEY\")\n",
        "os.environ[\"PINECONE_API_KEY\"] = userdata.get(\"PINECONE_API_KEY\")"
      ],
      "metadata": {
        "id": "lqLEIadn2ork"
      },
      "execution_count": null,
      "outputs": []
    },
    {
      "cell_type": "code",
      "source": [
        "pdf_path = \"/content/drive/MyDrive/chatdocs/tax-code-full.pdf\""
      ],
      "metadata": {
        "id": "-OR3Ff4H2sJc"
      },
      "execution_count": null,
      "outputs": []
    },
    {
      "cell_type": "code",
      "source": [
        "def extract_text_from_pdf(pdf_path):\n",
        "  try:\n",
        "    reader = PdfReader(pdf_path)\n",
        "    documents = []\n",
        "\n",
        "    for page_num, page in enumerate(reader.pages):\n",
        "      text = page.extract_text()\n",
        "      print(text)\n",
        "      doc = Document(\n",
        "          page_content=text,\n",
        "          metadata={\n",
        "              \"page_number\": page_num + 1,\n",
        "          }\n",
        "      )\n",
        "      documents.append(doc)\n",
        "  except Exception as e:\n",
        "    print(f\"Error extracting text from PDF: {e}\")\n",
        "    return None\n",
        "\n",
        "  return documents"
      ],
      "metadata": {
        "id": "SjTt8-Ly3HjA"
      },
      "execution_count": null,
      "outputs": []
    },
    {
      "cell_type": "code",
      "source": [
        "def split_documents(documents, chunk_size=250, chunk_overlap=100):\n",
        "  try:\n",
        "      text_splitter = RecursiveCharacterTextSplitter(\n",
        "        chunk_size=chunk_size,\n",
        "        chunk_overlap=chunk_overlap\n",
        "      )\n",
        "\n",
        "      texts = text_splitter.split_documents(documents)\n",
        "      return texts\n",
        "  except Exception as e:\n",
        "    print(f\"Error splitting documents: {e}\")\n",
        "    return None"
      ],
      "metadata": {
        "id": "aHVejcD63xgV"
      },
      "execution_count": null,
      "outputs": []
    },
    {
      "cell_type": "code",
      "source": [
        "from langchain_pinecone import Pinecone\n",
        "from pinecone import ServerlessSpec\n",
        "\n",
        "def create_embeddings_index(documents):\n",
        "  try:\n",
        "    embeddings = OpenAIEmbeddings(\n",
        "      model=\"text-embedding-ada-002\",\n",
        "      openai_api_key=os.environ[\"OPENAI_API_KEY\"]\n",
        "    )\n",
        "    pc = pinecone.Pinecone(api_key=os.environ.get(\"PINECONE_API_KEY\"), environment=\"us-east-1-aws\")\n",
        "\n",
        "    index_name = \"cameroon-tax-doc\"\n",
        "\n",
        "    if index_name not in pc.list_indexes().names():\n",
        "      pc.create_index(\n",
        "          name=index_name,\n",
        "          dimension=1536,\n",
        "          metric=\"euclidean\",\n",
        "          spec=ServerlessSpec(\n",
        "          cloud=\"aws\",\n",
        "          region=\"us-east-1\"\n",
        "        )\n",
        "      )\n",
        "    Pinecone.from_documents(\n",
        "      documents=documents,\n",
        "      embedding=embeddings,\n",
        "      index_name=index_name\n",
        "    )\n",
        "    # return pc\n",
        "  except Exception as e:\n",
        "    print(f\"Error creating embeddings index: {e}\")\n",
        "    # return None\n"
      ],
      "metadata": {
        "id": "4TMFmvQQ4Yyc"
      },
      "execution_count": null,
      "outputs": []
    },
    {
      "cell_type": "code",
      "source": [
        "def main():\n",
        "  documents = extract_text_from_pdf(pdf_path_2)\n",
        "  print(documents)\n",
        "  if documents is not None:\n",
        "    documents = split_documents(documents)\n",
        "    print(documents)\n",
        "    if documents is not None:\n",
        "      create_embeddings_index(documents)\n",
        "      print(f\"Created embeddings index with {len(documents)} documents.\")"
      ],
      "metadata": {
        "id": "JOv8JKOJ6V3U"
      },
      "execution_count": null,
      "outputs": []
    },
    {
      "cell_type": "code",
      "source": [
        "main()"
      ],
      "metadata": {
        "id": "m88v1mvc6g1J"
      },
      "execution_count": null,
      "outputs": []
    },
    {
      "cell_type": "code",
      "source": [],
      "metadata": {
        "id": "0zhp_exh6hj1"
      },
      "execution_count": null,
      "outputs": []
    }
  ]
}